{
  "nbformat": 4,
  "nbformat_minor": 0,
  "metadata": {
    "colab": {
      "name": "gis_data.ipynb",
      "provenance": [],
      "toc_visible": true
    },
    "kernelspec": {
      "name": "python3",
      "display_name": "Python 3"
    }
  },
  "cells": [
    {
      "cell_type": "markdown",
      "metadata": {
        "id": "Vc9IUGxHxQiE",
        "colab_type": "text"
      },
      "source": [
        "# Gis data analysis"
      ]
    },
    {
      "cell_type": "code",
      "metadata": {
        "id": "DvzkLgVQx2-1",
        "colab_type": "code",
        "colab": {
          "base_uri": "https://localhost:8080/",
          "height": 130
        },
        "outputId": "60132afb-10cf-4cff-c1ef-b169ec902db7"
      },
      "source": [
        "from google.colab import drive\n",
        "drive.mount('/content/drive')"
      ],
      "execution_count": 1,
      "outputs": [
        {
          "output_type": "stream",
          "text": [
            "Go to this URL in a browser: https://accounts.google.com/o/oauth2/auth?client_id=947318989803-6bn6qk8qdgf4n4g3pfee6491hc0brc4i.apps.googleusercontent.com&redirect_uri=urn%3aietf%3awg%3aoauth%3a2.0%3aoob&response_type=code&scope=email%20https%3a%2f%2fwww.googleapis.com%2fauth%2fdocs.test%20https%3a%2f%2fwww.googleapis.com%2fauth%2fdrive%20https%3a%2f%2fwww.googleapis.com%2fauth%2fdrive.photos.readonly%20https%3a%2f%2fwww.googleapis.com%2fauth%2fpeopleapi.readonly\n",
            "\n",
            "Enter your authorization code:\n",
            "··········\n",
            "Mounted at /content/drive\n"
          ],
          "name": "stdout"
        }
      ]
    },
    {
      "cell_type": "code",
      "metadata": {
        "id": "X5b3o7KHxK41",
        "colab_type": "code",
        "colab": {}
      },
      "source": [
        "import pandas as pd\n",
        "import pandas_profiling as pp\n",
        "import numpy as np\n",
        "import seaborn as sns\n",
        "sns.set()"
      ],
      "execution_count": 0,
      "outputs": []
    },
    {
      "cell_type": "code",
      "metadata": {
        "id": "6ou14LTZxi4z",
        "colab_type": "code",
        "colab": {}
      },
      "source": [
        "df = pd.read_csv('/content/drive/My Drive/data_drive/ACT_Road_Crash_Data.csv')"
      ],
      "execution_count": 0,
      "outputs": []
    },
    {
      "cell_type": "code",
      "metadata": {
        "id": "v-xAK_LyySYX",
        "colab_type": "code",
        "colab": {
          "base_uri": "https://localhost:8080/",
          "height": 313
        },
        "outputId": "89d747de-cd91-40bf-c0b5-159c489a750e"
      },
      "source": [
        "df.head()"
      ],
      "execution_count": 4,
      "outputs": [
        {
          "output_type": "execute_result",
          "data": {
            "text/html": [
              "<div>\n",
              "<style scoped>\n",
              "    .dataframe tbody tr th:only-of-type {\n",
              "        vertical-align: middle;\n",
              "    }\n",
              "\n",
              "    .dataframe tbody tr th {\n",
              "        vertical-align: top;\n",
              "    }\n",
              "\n",
              "    .dataframe thead th {\n",
              "        text-align: right;\n",
              "    }\n",
              "</style>\n",
              "<table border=\"1\" class=\"dataframe\">\n",
              "  <thead>\n",
              "    <tr style=\"text-align: right;\">\n",
              "      <th></th>\n",
              "      <th>CRASH_ID</th>\n",
              "      <th>CRASH_DATE</th>\n",
              "      <th>CRASH_TIME</th>\n",
              "      <th>SUBURB_LOCATION</th>\n",
              "      <th>LONGITUDE</th>\n",
              "      <th>LATITUDE</th>\n",
              "      <th>INTERSECTION</th>\n",
              "      <th>MIDBLOCK</th>\n",
              "      <th>CRASH_DIRECTION</th>\n",
              "      <th>CRASH_SEVERITY</th>\n",
              "      <th>LIGHTING_CONDITION</th>\n",
              "      <th>ROAD_CONDITION</th>\n",
              "      <th>WEATHER_CONDITION</th>\n",
              "      <th>Location</th>\n",
              "    </tr>\n",
              "  </thead>\n",
              "  <tbody>\n",
              "    <tr>\n",
              "      <th>0</th>\n",
              "      <td>1209242</td>\n",
              "      <td>17/06/2019</td>\n",
              "      <td>11:30</td>\n",
              "      <td>WESTON</td>\n",
              "      <td>149.051805</td>\n",
              "      <td>-35.341394</td>\n",
              "      <td>NO</td>\n",
              "      <td>YES</td>\n",
              "      <td>North / West bound</td>\n",
              "      <td>Property Damage Only</td>\n",
              "      <td>Daylight</td>\n",
              "      <td>Good dry surface</td>\n",
              "      <td>Fine</td>\n",
              "      <td>(-35.341393840486695, 149.05180491123326)</td>\n",
              "    </tr>\n",
              "    <tr>\n",
              "      <th>1</th>\n",
              "      <td>1209235</td>\n",
              "      <td>15/06/2019</td>\n",
              "      <td>19:00</td>\n",
              "      <td>GIRALANG</td>\n",
              "      <td>149.095324</td>\n",
              "      <td>-35.201405</td>\n",
              "      <td>YES</td>\n",
              "      <td>NO</td>\n",
              "      <td>East / West bound</td>\n",
              "      <td>Injury</td>\n",
              "      <td>Dark - good street lighting</td>\n",
              "      <td>Good dry surface</td>\n",
              "      <td>Fine</td>\n",
              "      <td>(-35.20140474557591, 149.09532381937305)</td>\n",
              "    </tr>\n",
              "    <tr>\n",
              "      <th>2</th>\n",
              "      <td>1209213</td>\n",
              "      <td>04/06/2019</td>\n",
              "      <td>08:50</td>\n",
              "      <td>PIALLIGO</td>\n",
              "      <td>149.172724</td>\n",
              "      <td>-35.294597</td>\n",
              "      <td>NO</td>\n",
              "      <td>YES</td>\n",
              "      <td>West bound</td>\n",
              "      <td>Property Damage Only</td>\n",
              "      <td>Daylight</td>\n",
              "      <td>Good dry surface</td>\n",
              "      <td>Fine</td>\n",
              "      <td>(-35.29459680781376, 149.17272403538018)</td>\n",
              "    </tr>\n",
              "    <tr>\n",
              "      <th>3</th>\n",
              "      <td>1209219</td>\n",
              "      <td>04/06/2019</td>\n",
              "      <td>15:20</td>\n",
              "      <td>GUNGAHLIN</td>\n",
              "      <td>149.129876</td>\n",
              "      <td>-35.184702</td>\n",
              "      <td>NO</td>\n",
              "      <td>YES</td>\n",
              "      <td>South / West bound</td>\n",
              "      <td>Property Damage Only</td>\n",
              "      <td>Daylight</td>\n",
              "      <td>Good dry surface</td>\n",
              "      <td>Fine</td>\n",
              "      <td>(-35.18470175366862, 149.12987626122316)</td>\n",
              "    </tr>\n",
              "    <tr>\n",
              "      <th>4</th>\n",
              "      <td>1209169</td>\n",
              "      <td>24/04/2019</td>\n",
              "      <td>08:10</td>\n",
              "      <td>TURNER</td>\n",
              "      <td>149.120302</td>\n",
              "      <td>-35.272828</td>\n",
              "      <td>YES</td>\n",
              "      <td>NO</td>\n",
              "      <td>East / West bound</td>\n",
              "      <td>Injury</td>\n",
              "      <td>Daylight</td>\n",
              "      <td>Good dry surface</td>\n",
              "      <td>Fine</td>\n",
              "      <td>(-35.27282779175493, 149.12030231648555)</td>\n",
              "    </tr>\n",
              "  </tbody>\n",
              "</table>\n",
              "</div>"
            ],
            "text/plain": [
              "   CRASH_ID  ...                                   Location\n",
              "0   1209242  ...  (-35.341393840486695, 149.05180491123326)\n",
              "1   1209235  ...   (-35.20140474557591, 149.09532381937305)\n",
              "2   1209213  ...   (-35.29459680781376, 149.17272403538018)\n",
              "3   1209219  ...   (-35.18470175366862, 149.12987626122316)\n",
              "4   1209169  ...   (-35.27282779175493, 149.12030231648555)\n",
              "\n",
              "[5 rows x 14 columns]"
            ]
          },
          "metadata": {
            "tags": []
          },
          "execution_count": 4
        }
      ]
    },
    {
      "cell_type": "code",
      "metadata": {
        "id": "_4eS1_zPyTD6",
        "colab_type": "code",
        "colab": {
          "base_uri": "https://localhost:8080/",
          "height": 54
        },
        "outputId": "c69fb218-5140-4c55-c1b7-202a4ae5fc56"
      },
      "source": [
        "print(df['LONGITUDE'].values)"
      ],
      "execution_count": 7,
      "outputs": [
        {
          "output_type": "stream",
          "text": [
            "[149.05180491 149.09532382 149.17272404 ... 149.11917489 149.08520845\n",
            " 149.14034361]\n"
          ],
          "name": "stdout"
        }
      ]
    },
    {
      "cell_type": "code",
      "metadata": {
        "id": "DDqw7zCUzyUr",
        "colab_type": "code",
        "colab": {
          "base_uri": "https://localhost:8080/",
          "height": 54
        },
        "outputId": "ca48fa46-59c2-40e6-bcb6-50b904ab36d9"
      },
      "source": [
        "print(df['LATITUDE'].values)"
      ],
      "execution_count": 8,
      "outputs": [
        {
          "output_type": "stream",
          "text": [
            "[-35.34139384 -35.20140475 -35.29459681 ... -35.18637929 -35.35205725\n",
            " -35.26329041]\n"
          ],
          "name": "stdout"
        }
      ]
    },
    {
      "cell_type": "code",
      "metadata": {
        "id": "y2hcTs9u-4x4",
        "colab_type": "code",
        "colab": {}
      },
      "source": [
        ""
      ],
      "execution_count": 0,
      "outputs": []
    },
    {
      "cell_type": "code",
      "metadata": {
        "id": "9lffTEs4474X",
        "colab_type": "code",
        "colab": {}
      },
      "source": [
        "! pip install folium"
      ],
      "execution_count": 0,
      "outputs": []
    },
    {
      "cell_type": "code",
      "metadata": {
        "id": "folLWVPl47EZ",
        "colab_type": "code",
        "colab": {}
      },
      "source": [
        "import folium "
      ],
      "execution_count": 0,
      "outputs": []
    },
    {
      "cell_type": "code",
      "metadata": {
        "id": "Zw0p98Je4Yhs",
        "colab_type": "code",
        "colab": {
          "base_uri": "https://localhost:8080/",
          "height": 36
        },
        "outputId": "7cfc0263-84d9-416a-f953-9387cec8cb2d"
      },
      "source": [
        "my_map3 = folium.Map(location = [-35.34139384, 149.05180491],zoom_start = 15) \n",
        "# Pass a string in popup parameter \n",
        "folium.Marker([-35.34139384,149.05180491], popup = 'accident_prone').add_to(my_map3) "
      ],
      "execution_count": 30,
      "outputs": [
        {
          "output_type": "execute_result",
          "data": {
            "text/plain": [
              "<folium.map.Marker at 0x7fa9932f8f28>"
            ]
          },
          "metadata": {
            "tags": []
          },
          "execution_count": 30
        }
      ]
    },
    {
      "cell_type": "code",
      "metadata": {
        "id": "cbEBQ0bA5KQx",
        "colab_type": "code",
        "colab": {}
      },
      "source": [
        "my_map3.save(\"my_map2.html\") "
      ],
      "execution_count": 0,
      "outputs": []
    },
    {
      "cell_type": "code",
      "metadata": {
        "id": "yymOKLPr5MQY",
        "colab_type": "code",
        "colab": {}
      },
      "source": [
        "# pp.ProfileReport(df)"
      ],
      "execution_count": 0,
      "outputs": []
    },
    {
      "cell_type": "code",
      "metadata": {
        "id": "ptn4D1nt_CPA",
        "colab_type": "code",
        "colab": {
          "base_uri": "https://localhost:8080/",
          "height": 54
        },
        "outputId": "e5c71903-35bf-4525-c15a-9d37c7fa9aa2"
      },
      "source": [
        "print(np.unique(df['WEATHER_CONDITION'].values))"
      ],
      "execution_count": 37,
      "outputs": [
        {
          "output_type": "stream",
          "text": [
            "['Cloudy or Overcast' 'Fine' 'Fog' 'Heavy rain' 'Light rain' 'Other'\n",
            " 'Smoke or dust' 'Snow or sleet' 'Unknown']\n"
          ],
          "name": "stdout"
        }
      ]
    },
    {
      "cell_type": "code",
      "metadata": {
        "id": "0ZumDeL__lMh",
        "colab_type": "code",
        "colab": {
          "base_uri": "https://localhost:8080/",
          "height": 54
        },
        "outputId": "05f53bfa-0cde-46ed-c775-2b12c8b00dd3"
      },
      "source": [
        "print(np.unique(df['ROAD_CONDITION'].values))"
      ],
      "execution_count": 38,
      "outputs": [
        {
          "output_type": "stream",
          "text": [
            "['Good dry surface' 'Loose surface' 'Muddy or oily surface' 'Snow or ice'\n",
            " 'Unknown' 'Wet surface']\n"
          ],
          "name": "stdout"
        }
      ]
    },
    {
      "cell_type": "code",
      "metadata": {
        "id": "GR49jJFg_twU",
        "colab_type": "code",
        "colab": {
          "base_uri": "https://localhost:8080/",
          "height": 54
        },
        "outputId": "34c81f72-979d-458f-b9b4-8d02e3eb2317"
      },
      "source": [
        "print(np.unique(df['LIGHTING_CONDITION'].values))"
      ],
      "execution_count": 39,
      "outputs": [
        {
          "output_type": "stream",
          "text": [
            "['Dark - good street lighting' 'Dark - no street lights'\n",
            " 'Dark - poor street lighting' 'Daylight' 'Semi-darkness' 'Unknown']\n"
          ],
          "name": "stdout"
        }
      ]
    },
    {
      "cell_type": "code",
      "metadata": {
        "id": "DhxDqUQj_0rV",
        "colab_type": "code",
        "colab": {}
      },
      "source": [
        ""
      ],
      "execution_count": 0,
      "outputs": []
    }
  ]
}