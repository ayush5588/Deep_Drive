{
  "nbformat": 4,
  "nbformat_minor": 0,
  "metadata": {
    "colab": {
      "name": "data_cleaning_iot.ipynb",
      "provenance": []
    },
    "kernelspec": {
      "name": "python3",
      "display_name": "Python 3"
    }
  },
  "cells": [
    {
      "cell_type": "code",
      "metadata": {
        "id": "fNUIvoYikI5O",
        "colab_type": "code",
        "colab": {}
      },
      "source": [
        "import pandas as pd\n",
        "import numpy as np"
      ],
      "execution_count": 0,
      "outputs": []
    },
    {
      "cell_type": "code",
      "metadata": {
        "id": "ieOQS3fZlWFM",
        "colab_type": "code",
        "outputId": "a460f6a3-575b-4e63-e10a-0629d5f4c0ce",
        "colab": {
          "base_uri": "https://localhost:8080/",
          "height": 36
        }
      },
      "source": [
        "from google.colab import drive\n",
        "drive.mount('/content/drive')"
      ],
      "execution_count": 0,
      "outputs": [
        {
          "output_type": "stream",
          "text": [
            "Drive already mounted at /content/drive; to attempt to forcibly remount, call drive.mount(\"/content/drive\", force_remount=True).\n"
          ],
          "name": "stdout"
        }
      ]
    },
    {
      "cell_type": "markdown",
      "metadata": {
        "id": "Th-4PU2RlX_a",
        "colab_type": "text"
      },
      "source": [
        "# Merging the stupid csvs"
      ]
    },
    {
      "cell_type": "code",
      "metadata": {
        "id": "p7rLPcnVlXqj",
        "colab_type": "code",
        "outputId": "4f39905d-6b8e-4c31-a2f3-70fc3e8d73c7",
        "colab": {
          "base_uri": "https://localhost:8080/",
          "height": 54
        }
      },
      "source": [
        "! unzip '/content/drive/My Drive/Parallax/data.zip'"
      ],
      "execution_count": 0,
      "outputs": [
        {
          "output_type": "stream",
          "text": [
            "Archive:  /content/drive/My Drive/Parallax/data.zip\n",
            "replace data/16/aceleracaoLinear_terra.csv? [y]es, [n]o, [A]ll, [N]one, [r]ename: N\n"
          ],
          "name": "stdout"
        }
      ]
    },
    {
      "cell_type": "code",
      "metadata": {
        "id": "A_RheXsDlXM2",
        "colab_type": "code",
        "colab": {}
      },
      "source": [
        "accl_lin = pd.read_csv('/content/data/16/aceleracaoLinear_terra.csv')\n",
        "accl_ter = pd.read_csv('/content/data/16/acelerometro_terra.csv')\n",
        "camp_mag = pd.read_csv('/content/data/16/campoMagnetico_terra.csv')\n",
        "giro_ter = pd.read_csv('/content/data/16/giroscopio_terra.csv')\n",
        "truth = pd.read_csv('/content/data/16/groundTruth.csv')"
      ],
      "execution_count": 0,
      "outputs": []
    },
    {
      "cell_type": "code",
      "metadata": {
        "id": "Z0dfsqmkp5ac",
        "colab_type": "code",
        "outputId": "b83f78a5-ead8-482d-83e5-8d96e2103380",
        "colab": {
          "base_uri": "https://localhost:8080/",
          "height": 206
        }
      },
      "source": [
        "accl_lin.head()"
      ],
      "execution_count": 0,
      "outputs": [
        {
          "output_type": "execute_result",
          "data": {
            "text/html": [
              "<div>\n",
              "<style scoped>\n",
              "    .dataframe tbody tr th:only-of-type {\n",
              "        vertical-align: middle;\n",
              "    }\n",
              "\n",
              "    .dataframe tbody tr th {\n",
              "        vertical-align: top;\n",
              "    }\n",
              "\n",
              "    .dataframe thead th {\n",
              "        text-align: right;\n",
              "    }\n",
              "</style>\n",
              "<table border=\"1\" class=\"dataframe\">\n",
              "  <thead>\n",
              "    <tr style=\"text-align: right;\">\n",
              "      <th></th>\n",
              "      <th>timestamp</th>\n",
              "      <th>uptimeNanos</th>\n",
              "      <th>x</th>\n",
              "      <th>y</th>\n",
              "      <th>z</th>\n",
              "    </tr>\n",
              "  </thead>\n",
              "  <tbody>\n",
              "    <tr>\n",
              "      <th>0</th>\n",
              "      <td>14/05/2016 10:54:33</td>\n",
              "      <td>11537640270059</td>\n",
              "      <td>-0.161602</td>\n",
              "      <td>0.120174</td>\n",
              "      <td>-0.209893</td>\n",
              "    </tr>\n",
              "    <tr>\n",
              "      <th>1</th>\n",
              "      <td>14/05/2016 10:54:33</td>\n",
              "      <td>11537650128140</td>\n",
              "      <td>-0.122628</td>\n",
              "      <td>0.315638</td>\n",
              "      <td>-0.380996</td>\n",
              "    </tr>\n",
              "    <tr>\n",
              "      <th>2</th>\n",
              "      <td>14/05/2016 10:54:33</td>\n",
              "      <td>11537659894659</td>\n",
              "      <td>-0.178777</td>\n",
              "      <td>0.330181</td>\n",
              "      <td>-0.360696</td>\n",
              "    </tr>\n",
              "    <tr>\n",
              "      <th>3</th>\n",
              "      <td>14/05/2016 10:54:33</td>\n",
              "      <td>11537679549779</td>\n",
              "      <td>0.016043</td>\n",
              "      <td>0.038759</td>\n",
              "      <td>-0.278204</td>\n",
              "    </tr>\n",
              "    <tr>\n",
              "      <th>4</th>\n",
              "      <td>14/05/2016 10:54:33</td>\n",
              "      <td>11537699204899</td>\n",
              "      <td>0.141716</td>\n",
              "      <td>-0.162492</td>\n",
              "      <td>-0.049796</td>\n",
              "    </tr>\n",
              "  </tbody>\n",
              "</table>\n",
              "</div>"
            ],
            "text/plain": [
              "             timestamp     uptimeNanos         x         y         z\n",
              "0  14/05/2016 10:54:33  11537640270059 -0.161602  0.120174 -0.209893\n",
              "1  14/05/2016 10:54:33  11537650128140 -0.122628  0.315638 -0.380996\n",
              "2  14/05/2016 10:54:33  11537659894659 -0.178777  0.330181 -0.360696\n",
              "3  14/05/2016 10:54:33  11537679549779  0.016043  0.038759 -0.278204\n",
              "4  14/05/2016 10:54:33  11537699204899  0.141716 -0.162492 -0.049796"
            ]
          },
          "metadata": {
            "tags": []
          },
          "execution_count": 117
        }
      ]
    },
    {
      "cell_type": "code",
      "metadata": {
        "id": "a7L479lMp8mO",
        "colab_type": "code",
        "outputId": "25ed29a6-0197-4eec-92dc-d582224bc089",
        "colab": {
          "base_uri": "https://localhost:8080/",
          "height": 206
        }
      },
      "source": [
        "accl_ter.head()"
      ],
      "execution_count": 0,
      "outputs": [
        {
          "output_type": "execute_result",
          "data": {
            "text/html": [
              "<div>\n",
              "<style scoped>\n",
              "    .dataframe tbody tr th:only-of-type {\n",
              "        vertical-align: middle;\n",
              "    }\n",
              "\n",
              "    .dataframe tbody tr th {\n",
              "        vertical-align: top;\n",
              "    }\n",
              "\n",
              "    .dataframe thead th {\n",
              "        text-align: right;\n",
              "    }\n",
              "</style>\n",
              "<table border=\"1\" class=\"dataframe\">\n",
              "  <thead>\n",
              "    <tr style=\"text-align: right;\">\n",
              "      <th></th>\n",
              "      <th>timestamp</th>\n",
              "      <th>uptimeNanos</th>\n",
              "      <th>x</th>\n",
              "      <th>y</th>\n",
              "      <th>z</th>\n",
              "    </tr>\n",
              "  </thead>\n",
              "  <tbody>\n",
              "    <tr>\n",
              "      <th>0</th>\n",
              "      <td>14/05/2016 10:54:33</td>\n",
              "      <td>11537640270059</td>\n",
              "      <td>-0.161602</td>\n",
              "      <td>0.120174</td>\n",
              "      <td>9.596758</td>\n",
              "    </tr>\n",
              "    <tr>\n",
              "      <th>1</th>\n",
              "      <td>14/05/2016 10:54:33</td>\n",
              "      <td>11537650128140</td>\n",
              "      <td>-0.122628</td>\n",
              "      <td>0.315638</td>\n",
              "      <td>9.425655</td>\n",
              "    </tr>\n",
              "    <tr>\n",
              "      <th>2</th>\n",
              "      <td>14/05/2016 10:54:33</td>\n",
              "      <td>11537659894659</td>\n",
              "      <td>-0.178777</td>\n",
              "      <td>0.330180</td>\n",
              "      <td>9.445955</td>\n",
              "    </tr>\n",
              "    <tr>\n",
              "      <th>3</th>\n",
              "      <td>14/05/2016 10:54:33</td>\n",
              "      <td>11537679549779</td>\n",
              "      <td>0.016043</td>\n",
              "      <td>0.038759</td>\n",
              "      <td>9.528445</td>\n",
              "    </tr>\n",
              "    <tr>\n",
              "      <th>4</th>\n",
              "      <td>14/05/2016 10:54:33</td>\n",
              "      <td>11537699204899</td>\n",
              "      <td>0.141716</td>\n",
              "      <td>-0.162492</td>\n",
              "      <td>9.756854</td>\n",
              "    </tr>\n",
              "  </tbody>\n",
              "</table>\n",
              "</div>"
            ],
            "text/plain": [
              "             timestamp     uptimeNanos         x         y         z\n",
              "0  14/05/2016 10:54:33  11537640270059 -0.161602  0.120174  9.596758\n",
              "1  14/05/2016 10:54:33  11537650128140 -0.122628  0.315638  9.425655\n",
              "2  14/05/2016 10:54:33  11537659894659 -0.178777  0.330180  9.445955\n",
              "3  14/05/2016 10:54:33  11537679549779  0.016043  0.038759  9.528445\n",
              "4  14/05/2016 10:54:33  11537699204899  0.141716 -0.162492  9.756854"
            ]
          },
          "metadata": {
            "tags": []
          },
          "execution_count": 118
        }
      ]
    },
    {
      "cell_type": "code",
      "metadata": {
        "id": "t2y-l8nwqCfA",
        "colab_type": "code",
        "outputId": "0ed1dfde-1304-4e21-d9ae-81a00a25c254",
        "colab": {
          "base_uri": "https://localhost:8080/",
          "height": 206
        }
      },
      "source": [
        "camp_mag.head()"
      ],
      "execution_count": 0,
      "outputs": [
        {
          "output_type": "execute_result",
          "data": {
            "text/html": [
              "<div>\n",
              "<style scoped>\n",
              "    .dataframe tbody tr th:only-of-type {\n",
              "        vertical-align: middle;\n",
              "    }\n",
              "\n",
              "    .dataframe tbody tr th {\n",
              "        vertical-align: top;\n",
              "    }\n",
              "\n",
              "    .dataframe thead th {\n",
              "        text-align: right;\n",
              "    }\n",
              "</style>\n",
              "<table border=\"1\" class=\"dataframe\">\n",
              "  <thead>\n",
              "    <tr style=\"text-align: right;\">\n",
              "      <th></th>\n",
              "      <th>timestamp</th>\n",
              "      <th>uptimeNanos</th>\n",
              "      <th>x</th>\n",
              "      <th>y</th>\n",
              "      <th>z</th>\n",
              "    </tr>\n",
              "  </thead>\n",
              "  <tbody>\n",
              "    <tr>\n",
              "      <th>0</th>\n",
              "      <td>14/05/2016 10:54:33</td>\n",
              "      <td>11537628641797</td>\n",
              "      <td>-1.184853e-07</td>\n",
              "      <td>40.994006</td>\n",
              "      <td>-7.966440</td>\n",
              "    </tr>\n",
              "    <tr>\n",
              "      <th>1</th>\n",
              "      <td>14/05/2016 10:54:33</td>\n",
              "      <td>11537648266397</td>\n",
              "      <td>-6.832270e-07</td>\n",
              "      <td>41.030238</td>\n",
              "      <td>-8.112972</td>\n",
              "    </tr>\n",
              "    <tr>\n",
              "      <th>2</th>\n",
              "      <td>14/05/2016 10:54:33</td>\n",
              "      <td>11537667890997</td>\n",
              "      <td>-1.365388e-07</td>\n",
              "      <td>40.863243</td>\n",
              "      <td>-7.899277</td>\n",
              "    </tr>\n",
              "    <tr>\n",
              "      <th>3</th>\n",
              "      <td>14/05/2016 10:54:33</td>\n",
              "      <td>11537667890997</td>\n",
              "      <td>-6.260234e-08</td>\n",
              "      <td>40.862746</td>\n",
              "      <td>-7.901860</td>\n",
              "    </tr>\n",
              "    <tr>\n",
              "      <th>4</th>\n",
              "      <td>14/05/2016 10:54:33</td>\n",
              "      <td>11537687485076</td>\n",
              "      <td>-9.552314e-07</td>\n",
              "      <td>40.778226</td>\n",
              "      <td>-8.027510</td>\n",
              "    </tr>\n",
              "  </tbody>\n",
              "</table>\n",
              "</div>"
            ],
            "text/plain": [
              "             timestamp     uptimeNanos             x          y         z\n",
              "0  14/05/2016 10:54:33  11537628641797 -1.184853e-07  40.994006 -7.966440\n",
              "1  14/05/2016 10:54:33  11537648266397 -6.832270e-07  41.030238 -8.112972\n",
              "2  14/05/2016 10:54:33  11537667890997 -1.365388e-07  40.863243 -7.899277\n",
              "3  14/05/2016 10:54:33  11537667890997 -6.260234e-08  40.862746 -7.901860\n",
              "4  14/05/2016 10:54:33  11537687485076 -9.552314e-07  40.778226 -8.027510"
            ]
          },
          "metadata": {
            "tags": []
          },
          "execution_count": 119
        }
      ]
    },
    {
      "cell_type": "code",
      "metadata": {
        "id": "S191nnfQqu6q",
        "colab_type": "code",
        "outputId": "ce7cc4ab-491c-4aea-8d51-abe0d86ed30f",
        "colab": {
          "base_uri": "https://localhost:8080/",
          "height": 206
        }
      },
      "source": [
        "giro_ter.head()"
      ],
      "execution_count": 0,
      "outputs": [
        {
          "output_type": "execute_result",
          "data": {
            "text/html": [
              "<div>\n",
              "<style scoped>\n",
              "    .dataframe tbody tr th:only-of-type {\n",
              "        vertical-align: middle;\n",
              "    }\n",
              "\n",
              "    .dataframe tbody tr th {\n",
              "        vertical-align: top;\n",
              "    }\n",
              "\n",
              "    .dataframe thead th {\n",
              "        text-align: right;\n",
              "    }\n",
              "</style>\n",
              "<table border=\"1\" class=\"dataframe\">\n",
              "  <thead>\n",
              "    <tr style=\"text-align: right;\">\n",
              "      <th></th>\n",
              "      <th>timestamp</th>\n",
              "      <th>uptimeNanos</th>\n",
              "      <th>x</th>\n",
              "      <th>y</th>\n",
              "      <th>z</th>\n",
              "    </tr>\n",
              "  </thead>\n",
              "  <tbody>\n",
              "    <tr>\n",
              "      <th>0</th>\n",
              "      <td>14/05/2016 10:54:33</td>\n",
              "      <td>11537635386799</td>\n",
              "      <td>-0.070372</td>\n",
              "      <td>0.000844</td>\n",
              "      <td>0.029619</td>\n",
              "    </tr>\n",
              "    <tr>\n",
              "      <th>1</th>\n",
              "      <td>14/05/2016 10:54:33</td>\n",
              "      <td>11537645580604</td>\n",
              "      <td>-0.058695</td>\n",
              "      <td>0.009130</td>\n",
              "      <td>0.024406</td>\n",
              "    </tr>\n",
              "    <tr>\n",
              "      <th>2</th>\n",
              "      <td>14/05/2016 10:54:33</td>\n",
              "      <td>11537667280589</td>\n",
              "      <td>0.006625</td>\n",
              "      <td>-0.002283</td>\n",
              "      <td>-0.015018</td>\n",
              "    </tr>\n",
              "    <tr>\n",
              "      <th>3</th>\n",
              "      <td>14/05/2016 10:54:33</td>\n",
              "      <td>11537684829803</td>\n",
              "      <td>0.064933</td>\n",
              "      <td>0.033172</td>\n",
              "      <td>-0.040503</td>\n",
              "    </tr>\n",
              "    <tr>\n",
              "      <th>4</th>\n",
              "      <td>14/05/2016 10:54:33</td>\n",
              "      <td>11537704912208</td>\n",
              "      <td>0.039454</td>\n",
              "      <td>-0.013078</td>\n",
              "      <td>-0.007681</td>\n",
              "    </tr>\n",
              "  </tbody>\n",
              "</table>\n",
              "</div>"
            ],
            "text/plain": [
              "             timestamp     uptimeNanos         x         y         z\n",
              "0  14/05/2016 10:54:33  11537635386799 -0.070372  0.000844  0.029619\n",
              "1  14/05/2016 10:54:33  11537645580604 -0.058695  0.009130  0.024406\n",
              "2  14/05/2016 10:54:33  11537667280589  0.006625 -0.002283 -0.015018\n",
              "3  14/05/2016 10:54:33  11537684829803  0.064933  0.033172 -0.040503\n",
              "4  14/05/2016 10:54:33  11537704912208  0.039454 -0.013078 -0.007681"
            ]
          },
          "metadata": {
            "tags": []
          },
          "execution_count": 120
        }
      ]
    },
    {
      "cell_type": "code",
      "metadata": {
        "id": "LlHinGtKq97q",
        "colab_type": "code",
        "colab": {}
      },
      "source": [
        "def rename_df(df, from_columns, to_columns):\n",
        "    rename_dict = {}\n",
        "    for f_c, to_c in zip(from_columns, to_columns):\n",
        "        rename_dict[f_c] = to_c \n",
        "\n",
        "    df.rename(rename_dict, axis=1, inplace=True)\n",
        "    return df\n"
      ],
      "execution_count": 0,
      "outputs": []
    },
    {
      "cell_type": "code",
      "metadata": {
        "id": "UoPO3OhQr5Nz",
        "colab_type": "code",
        "colab": {}
      },
      "source": [
        "accl_lin = rename_df(accl_lin, ['timestamp', 'uptimeNanos', 'x', 'y', 'z'], ['timestamp', 'uptimeNanos', 'x_accl', 'y_accl', 'z_accl'])"
      ],
      "execution_count": 0,
      "outputs": []
    },
    {
      "cell_type": "code",
      "metadata": {
        "id": "9EURrj_NsSI9",
        "colab_type": "code",
        "colab": {}
      },
      "source": [
        "accl_ter = rename_df(accl_ter, ['timestamp', 'uptimeNanos', 'x', 'y', 'z'], ['timestamp', 'uptimeNanos', 'x_acct', 'y_acct', 'z_acct'])"
      ],
      "execution_count": 0,
      "outputs": []
    },
    {
      "cell_type": "code",
      "metadata": {
        "id": "40QcV3IAsdrK",
        "colab_type": "code",
        "colab": {}
      },
      "source": [
        "camp_mag = rename_df(camp_mag, ['timestamp', 'uptimeNanos', 'x', 'y', 'z'], ['timestamp', 'uptimeNanos', 'x_camp', 'y_camp', 'z_camp'])"
      ],
      "execution_count": 0,
      "outputs": []
    },
    {
      "cell_type": "code",
      "metadata": {
        "id": "XJQMiAo4sXns",
        "colab_type": "code",
        "colab": {}
      },
      "source": [
        "giro_ter = rename_df(giro_ter, ['timestamp', 'uptimeNanos', 'x', 'y', 'z'], ['timestamp', 'uptimeNanos', 'x_giro', 'y_giro', 'z_giro'])"
      ],
      "execution_count": 0,
      "outputs": []
    },
    {
      "cell_type": "code",
      "metadata": {
        "id": "KJS-ryqVtMBx",
        "colab_type": "code",
        "outputId": "a0f5b238-02b4-4dfe-e82f-46657071241c",
        "colab": {
          "base_uri": "https://localhost:8080/",
          "height": 206
        }
      },
      "source": [
        "accl_lin.head()"
      ],
      "execution_count": 0,
      "outputs": [
        {
          "output_type": "execute_result",
          "data": {
            "text/html": [
              "<div>\n",
              "<style scoped>\n",
              "    .dataframe tbody tr th:only-of-type {\n",
              "        vertical-align: middle;\n",
              "    }\n",
              "\n",
              "    .dataframe tbody tr th {\n",
              "        vertical-align: top;\n",
              "    }\n",
              "\n",
              "    .dataframe thead th {\n",
              "        text-align: right;\n",
              "    }\n",
              "</style>\n",
              "<table border=\"1\" class=\"dataframe\">\n",
              "  <thead>\n",
              "    <tr style=\"text-align: right;\">\n",
              "      <th></th>\n",
              "      <th>timestamp</th>\n",
              "      <th>uptimeNanos</th>\n",
              "      <th>x_accl</th>\n",
              "      <th>y_accl</th>\n",
              "      <th>z_accl</th>\n",
              "    </tr>\n",
              "  </thead>\n",
              "  <tbody>\n",
              "    <tr>\n",
              "      <th>0</th>\n",
              "      <td>14/05/2016 10:54:33</td>\n",
              "      <td>11537640270059</td>\n",
              "      <td>-0.161602</td>\n",
              "      <td>0.120174</td>\n",
              "      <td>-0.209893</td>\n",
              "    </tr>\n",
              "    <tr>\n",
              "      <th>1</th>\n",
              "      <td>14/05/2016 10:54:33</td>\n",
              "      <td>11537650128140</td>\n",
              "      <td>-0.122628</td>\n",
              "      <td>0.315638</td>\n",
              "      <td>-0.380996</td>\n",
              "    </tr>\n",
              "    <tr>\n",
              "      <th>2</th>\n",
              "      <td>14/05/2016 10:54:33</td>\n",
              "      <td>11537659894659</td>\n",
              "      <td>-0.178777</td>\n",
              "      <td>0.330181</td>\n",
              "      <td>-0.360696</td>\n",
              "    </tr>\n",
              "    <tr>\n",
              "      <th>3</th>\n",
              "      <td>14/05/2016 10:54:33</td>\n",
              "      <td>11537679549779</td>\n",
              "      <td>0.016043</td>\n",
              "      <td>0.038759</td>\n",
              "      <td>-0.278204</td>\n",
              "    </tr>\n",
              "    <tr>\n",
              "      <th>4</th>\n",
              "      <td>14/05/2016 10:54:33</td>\n",
              "      <td>11537699204899</td>\n",
              "      <td>0.141716</td>\n",
              "      <td>-0.162492</td>\n",
              "      <td>-0.049796</td>\n",
              "    </tr>\n",
              "  </tbody>\n",
              "</table>\n",
              "</div>"
            ],
            "text/plain": [
              "             timestamp     uptimeNanos    x_accl    y_accl    z_accl\n",
              "0  14/05/2016 10:54:33  11537640270059 -0.161602  0.120174 -0.209893\n",
              "1  14/05/2016 10:54:33  11537650128140 -0.122628  0.315638 -0.380996\n",
              "2  14/05/2016 10:54:33  11537659894659 -0.178777  0.330181 -0.360696\n",
              "3  14/05/2016 10:54:33  11537679549779  0.016043  0.038759 -0.278204\n",
              "4  14/05/2016 10:54:33  11537699204899  0.141716 -0.162492 -0.049796"
            ]
          },
          "metadata": {
            "tags": []
          },
          "execution_count": 126
        }
      ]
    },
    {
      "cell_type": "code",
      "metadata": {
        "id": "I9D3aa5WtOb5",
        "colab_type": "code",
        "outputId": "9902c525-9b0e-41ca-ba70-a5d70735bb08",
        "colab": {
          "base_uri": "https://localhost:8080/",
          "height": 206
        }
      },
      "source": [
        "accl_ter.head()"
      ],
      "execution_count": 0,
      "outputs": [
        {
          "output_type": "execute_result",
          "data": {
            "text/html": [
              "<div>\n",
              "<style scoped>\n",
              "    .dataframe tbody tr th:only-of-type {\n",
              "        vertical-align: middle;\n",
              "    }\n",
              "\n",
              "    .dataframe tbody tr th {\n",
              "        vertical-align: top;\n",
              "    }\n",
              "\n",
              "    .dataframe thead th {\n",
              "        text-align: right;\n",
              "    }\n",
              "</style>\n",
              "<table border=\"1\" class=\"dataframe\">\n",
              "  <thead>\n",
              "    <tr style=\"text-align: right;\">\n",
              "      <th></th>\n",
              "      <th>timestamp</th>\n",
              "      <th>uptimeNanos</th>\n",
              "      <th>x_acct</th>\n",
              "      <th>y_acct</th>\n",
              "      <th>z_acct</th>\n",
              "    </tr>\n",
              "  </thead>\n",
              "  <tbody>\n",
              "    <tr>\n",
              "      <th>0</th>\n",
              "      <td>14/05/2016 10:54:33</td>\n",
              "      <td>11537640270059</td>\n",
              "      <td>-0.161602</td>\n",
              "      <td>0.120174</td>\n",
              "      <td>9.596758</td>\n",
              "    </tr>\n",
              "    <tr>\n",
              "      <th>1</th>\n",
              "      <td>14/05/2016 10:54:33</td>\n",
              "      <td>11537650128140</td>\n",
              "      <td>-0.122628</td>\n",
              "      <td>0.315638</td>\n",
              "      <td>9.425655</td>\n",
              "    </tr>\n",
              "    <tr>\n",
              "      <th>2</th>\n",
              "      <td>14/05/2016 10:54:33</td>\n",
              "      <td>11537659894659</td>\n",
              "      <td>-0.178777</td>\n",
              "      <td>0.330180</td>\n",
              "      <td>9.445955</td>\n",
              "    </tr>\n",
              "    <tr>\n",
              "      <th>3</th>\n",
              "      <td>14/05/2016 10:54:33</td>\n",
              "      <td>11537679549779</td>\n",
              "      <td>0.016043</td>\n",
              "      <td>0.038759</td>\n",
              "      <td>9.528445</td>\n",
              "    </tr>\n",
              "    <tr>\n",
              "      <th>4</th>\n",
              "      <td>14/05/2016 10:54:33</td>\n",
              "      <td>11537699204899</td>\n",
              "      <td>0.141716</td>\n",
              "      <td>-0.162492</td>\n",
              "      <td>9.756854</td>\n",
              "    </tr>\n",
              "  </tbody>\n",
              "</table>\n",
              "</div>"
            ],
            "text/plain": [
              "             timestamp     uptimeNanos    x_acct    y_acct    z_acct\n",
              "0  14/05/2016 10:54:33  11537640270059 -0.161602  0.120174  9.596758\n",
              "1  14/05/2016 10:54:33  11537650128140 -0.122628  0.315638  9.425655\n",
              "2  14/05/2016 10:54:33  11537659894659 -0.178777  0.330180  9.445955\n",
              "3  14/05/2016 10:54:33  11537679549779  0.016043  0.038759  9.528445\n",
              "4  14/05/2016 10:54:33  11537699204899  0.141716 -0.162492  9.756854"
            ]
          },
          "metadata": {
            "tags": []
          },
          "execution_count": 127
        }
      ]
    },
    {
      "cell_type": "code",
      "metadata": {
        "id": "THXetvmatPGh",
        "colab_type": "code",
        "outputId": "b51883ed-b1e1-44c2-900b-e877f4c69c7a",
        "colab": {
          "base_uri": "https://localhost:8080/",
          "height": 206
        }
      },
      "source": [
        "camp_mag.head()"
      ],
      "execution_count": 0,
      "outputs": [
        {
          "output_type": "execute_result",
          "data": {
            "text/html": [
              "<div>\n",
              "<style scoped>\n",
              "    .dataframe tbody tr th:only-of-type {\n",
              "        vertical-align: middle;\n",
              "    }\n",
              "\n",
              "    .dataframe tbody tr th {\n",
              "        vertical-align: top;\n",
              "    }\n",
              "\n",
              "    .dataframe thead th {\n",
              "        text-align: right;\n",
              "    }\n",
              "</style>\n",
              "<table border=\"1\" class=\"dataframe\">\n",
              "  <thead>\n",
              "    <tr style=\"text-align: right;\">\n",
              "      <th></th>\n",
              "      <th>timestamp</th>\n",
              "      <th>uptimeNanos</th>\n",
              "      <th>x_camp</th>\n",
              "      <th>y_camp</th>\n",
              "      <th>z_camp</th>\n",
              "    </tr>\n",
              "  </thead>\n",
              "  <tbody>\n",
              "    <tr>\n",
              "      <th>0</th>\n",
              "      <td>14/05/2016 10:54:33</td>\n",
              "      <td>11537628641797</td>\n",
              "      <td>-1.184853e-07</td>\n",
              "      <td>40.994006</td>\n",
              "      <td>-7.966440</td>\n",
              "    </tr>\n",
              "    <tr>\n",
              "      <th>1</th>\n",
              "      <td>14/05/2016 10:54:33</td>\n",
              "      <td>11537648266397</td>\n",
              "      <td>-6.832270e-07</td>\n",
              "      <td>41.030238</td>\n",
              "      <td>-8.112972</td>\n",
              "    </tr>\n",
              "    <tr>\n",
              "      <th>2</th>\n",
              "      <td>14/05/2016 10:54:33</td>\n",
              "      <td>11537667890997</td>\n",
              "      <td>-1.365388e-07</td>\n",
              "      <td>40.863243</td>\n",
              "      <td>-7.899277</td>\n",
              "    </tr>\n",
              "    <tr>\n",
              "      <th>3</th>\n",
              "      <td>14/05/2016 10:54:33</td>\n",
              "      <td>11537667890997</td>\n",
              "      <td>-6.260234e-08</td>\n",
              "      <td>40.862746</td>\n",
              "      <td>-7.901860</td>\n",
              "    </tr>\n",
              "    <tr>\n",
              "      <th>4</th>\n",
              "      <td>14/05/2016 10:54:33</td>\n",
              "      <td>11537687485076</td>\n",
              "      <td>-9.552314e-07</td>\n",
              "      <td>40.778226</td>\n",
              "      <td>-8.027510</td>\n",
              "    </tr>\n",
              "  </tbody>\n",
              "</table>\n",
              "</div>"
            ],
            "text/plain": [
              "             timestamp     uptimeNanos        x_camp     y_camp    z_camp\n",
              "0  14/05/2016 10:54:33  11537628641797 -1.184853e-07  40.994006 -7.966440\n",
              "1  14/05/2016 10:54:33  11537648266397 -6.832270e-07  41.030238 -8.112972\n",
              "2  14/05/2016 10:54:33  11537667890997 -1.365388e-07  40.863243 -7.899277\n",
              "3  14/05/2016 10:54:33  11537667890997 -6.260234e-08  40.862746 -7.901860\n",
              "4  14/05/2016 10:54:33  11537687485076 -9.552314e-07  40.778226 -8.027510"
            ]
          },
          "metadata": {
            "tags": []
          },
          "execution_count": 128
        }
      ]
    },
    {
      "cell_type": "code",
      "metadata": {
        "id": "6KS9DkB1tQLR",
        "colab_type": "code",
        "outputId": "b4e0f1ee-a09b-4771-c133-e045178a498a",
        "colab": {
          "base_uri": "https://localhost:8080/",
          "height": 206
        }
      },
      "source": [
        "giro_ter.head()"
      ],
      "execution_count": 0,
      "outputs": [
        {
          "output_type": "execute_result",
          "data": {
            "text/html": [
              "<div>\n",
              "<style scoped>\n",
              "    .dataframe tbody tr th:only-of-type {\n",
              "        vertical-align: middle;\n",
              "    }\n",
              "\n",
              "    .dataframe tbody tr th {\n",
              "        vertical-align: top;\n",
              "    }\n",
              "\n",
              "    .dataframe thead th {\n",
              "        text-align: right;\n",
              "    }\n",
              "</style>\n",
              "<table border=\"1\" class=\"dataframe\">\n",
              "  <thead>\n",
              "    <tr style=\"text-align: right;\">\n",
              "      <th></th>\n",
              "      <th>timestamp</th>\n",
              "      <th>uptimeNanos</th>\n",
              "      <th>x_giro</th>\n",
              "      <th>y_giro</th>\n",
              "      <th>z_giro</th>\n",
              "    </tr>\n",
              "  </thead>\n",
              "  <tbody>\n",
              "    <tr>\n",
              "      <th>0</th>\n",
              "      <td>14/05/2016 10:54:33</td>\n",
              "      <td>11537635386799</td>\n",
              "      <td>-0.070372</td>\n",
              "      <td>0.000844</td>\n",
              "      <td>0.029619</td>\n",
              "    </tr>\n",
              "    <tr>\n",
              "      <th>1</th>\n",
              "      <td>14/05/2016 10:54:33</td>\n",
              "      <td>11537645580604</td>\n",
              "      <td>-0.058695</td>\n",
              "      <td>0.009130</td>\n",
              "      <td>0.024406</td>\n",
              "    </tr>\n",
              "    <tr>\n",
              "      <th>2</th>\n",
              "      <td>14/05/2016 10:54:33</td>\n",
              "      <td>11537667280589</td>\n",
              "      <td>0.006625</td>\n",
              "      <td>-0.002283</td>\n",
              "      <td>-0.015018</td>\n",
              "    </tr>\n",
              "    <tr>\n",
              "      <th>3</th>\n",
              "      <td>14/05/2016 10:54:33</td>\n",
              "      <td>11537684829803</td>\n",
              "      <td>0.064933</td>\n",
              "      <td>0.033172</td>\n",
              "      <td>-0.040503</td>\n",
              "    </tr>\n",
              "    <tr>\n",
              "      <th>4</th>\n",
              "      <td>14/05/2016 10:54:33</td>\n",
              "      <td>11537704912208</td>\n",
              "      <td>0.039454</td>\n",
              "      <td>-0.013078</td>\n",
              "      <td>-0.007681</td>\n",
              "    </tr>\n",
              "  </tbody>\n",
              "</table>\n",
              "</div>"
            ],
            "text/plain": [
              "             timestamp     uptimeNanos    x_giro    y_giro    z_giro\n",
              "0  14/05/2016 10:54:33  11537635386799 -0.070372  0.000844  0.029619\n",
              "1  14/05/2016 10:54:33  11537645580604 -0.058695  0.009130  0.024406\n",
              "2  14/05/2016 10:54:33  11537667280589  0.006625 -0.002283 -0.015018\n",
              "3  14/05/2016 10:54:33  11537684829803  0.064933  0.033172 -0.040503\n",
              "4  14/05/2016 10:54:33  11537704912208  0.039454 -0.013078 -0.007681"
            ]
          },
          "metadata": {
            "tags": []
          },
          "execution_count": 129
        }
      ]
    },
    {
      "cell_type": "code",
      "metadata": {
        "id": "RY3hrTMhtZPT",
        "colab_type": "code",
        "outputId": "9ddb9704-de41-4518-bc28-e8e9940dccf7",
        "colab": {
          "base_uri": "https://localhost:8080/",
          "height": 91
        }
      },
      "source": [
        "print(giro_ter.shape)\n",
        "print(camp_mag.shape)\n",
        "print(accl_ter.shape)\n",
        "print(accl_lin.shape)"
      ],
      "execution_count": 0,
      "outputs": [
        {
          "output_type": "stream",
          "text": [
            "(64645, 5)\n",
            "(128956, 5)\n",
            "(64645, 5)\n",
            "(64645, 5)\n"
          ],
          "name": "stdout"
        }
      ]
    },
    {
      "cell_type": "code",
      "metadata": {
        "id": "GUEvS-JqveLK",
        "colab_type": "code",
        "outputId": "76a2c9b4-2ff0-4ff9-acfd-edb1b621c237",
        "colab": {
          "base_uri": "https://localhost:8080/",
          "height": 112
        }
      },
      "source": [
        "camp_mag.tail(2)"
      ],
      "execution_count": 0,
      "outputs": [
        {
          "output_type": "execute_result",
          "data": {
            "text/html": [
              "<div>\n",
              "<style scoped>\n",
              "    .dataframe tbody tr th:only-of-type {\n",
              "        vertical-align: middle;\n",
              "    }\n",
              "\n",
              "    .dataframe tbody tr th {\n",
              "        vertical-align: top;\n",
              "    }\n",
              "\n",
              "    .dataframe thead th {\n",
              "        text-align: right;\n",
              "    }\n",
              "</style>\n",
              "<table border=\"1\" class=\"dataframe\">\n",
              "  <thead>\n",
              "    <tr style=\"text-align: right;\">\n",
              "      <th></th>\n",
              "      <th>timestamp</th>\n",
              "      <th>uptimeNanos</th>\n",
              "      <th>x_camp</th>\n",
              "      <th>y_camp</th>\n",
              "      <th>z_camp</th>\n",
              "    </tr>\n",
              "  </thead>\n",
              "  <tbody>\n",
              "    <tr>\n",
              "      <th>128954</th>\n",
              "      <td>14/05/2016 11:15:42</td>\n",
              "      <td>1269</td>\n",
              "      <td>-4.479662e-07</td>\n",
              "      <td>15.153189</td>\n",
              "      <td>-10.435536</td>\n",
              "    </tr>\n",
              "    <tr>\n",
              "      <th>128955</th>\n",
              "      <td>14/05/2016 11:15:42</td>\n",
              "      <td>1269</td>\n",
              "      <td>2.672896e-07</td>\n",
              "      <td>15.156427</td>\n",
              "      <td>-10.430830</td>\n",
              "    </tr>\n",
              "  </tbody>\n",
              "</table>\n",
              "</div>"
            ],
            "text/plain": [
              "                  timestamp  uptimeNanos        x_camp     y_camp     z_camp\n",
              "128954  14/05/2016 11:15:42         1269 -4.479662e-07  15.153189 -10.435536\n",
              "128955  14/05/2016 11:15:42         1269  2.672896e-07  15.156427 -10.430830"
            ]
          },
          "metadata": {
            "tags": []
          },
          "execution_count": 141
        }
      ]
    },
    {
      "cell_type": "code",
      "metadata": {
        "id": "bcyh9QKvvzmh",
        "colab_type": "code",
        "outputId": "83749ef6-5901-4ffa-d88c-04d34f3dfdec",
        "colab": {
          "base_uri": "https://localhost:8080/",
          "height": 112
        }
      },
      "source": [
        "giro_ter.tail(2)"
      ],
      "execution_count": 0,
      "outputs": [
        {
          "output_type": "execute_result",
          "data": {
            "text/html": [
              "<div>\n",
              "<style scoped>\n",
              "    .dataframe tbody tr th:only-of-type {\n",
              "        vertical-align: middle;\n",
              "    }\n",
              "\n",
              "    .dataframe tbody tr th {\n",
              "        vertical-align: top;\n",
              "    }\n",
              "\n",
              "    .dataframe thead th {\n",
              "        text-align: right;\n",
              "    }\n",
              "</style>\n",
              "<table border=\"1\" class=\"dataframe\">\n",
              "  <thead>\n",
              "    <tr style=\"text-align: right;\">\n",
              "      <th></th>\n",
              "      <th>timestamp</th>\n",
              "      <th>uptimeNanos</th>\n",
              "      <th>x_giro</th>\n",
              "      <th>y_giro</th>\n",
              "      <th>z_giro</th>\n",
              "    </tr>\n",
              "  </thead>\n",
              "  <tbody>\n",
              "    <tr>\n",
              "      <th>64643</th>\n",
              "      <td>14/05/2016 11:15:42</td>\n",
              "      <td>1269</td>\n",
              "      <td>0.179586</td>\n",
              "      <td>-0.106454</td>\n",
              "      <td>0.048294</td>\n",
              "    </tr>\n",
              "    <tr>\n",
              "      <th>64644</th>\n",
              "      <td>14/05/2016 11:15:42</td>\n",
              "      <td>1269</td>\n",
              "      <td>0.067985</td>\n",
              "      <td>-0.133239</td>\n",
              "      <td>-0.087171</td>\n",
              "    </tr>\n",
              "  </tbody>\n",
              "</table>\n",
              "</div>"
            ],
            "text/plain": [
              "                 timestamp  uptimeNanos    x_giro    y_giro    z_giro\n",
              "64643  14/05/2016 11:15:42         1269  0.179586 -0.106454  0.048294\n",
              "64644  14/05/2016 11:15:42         1269  0.067985 -0.133239 -0.087171"
            ]
          },
          "metadata": {
            "tags": []
          },
          "execution_count": 142
        }
      ]
    },
    {
      "cell_type": "code",
      "metadata": {
        "id": "3ZeGvab2v4Ox",
        "colab_type": "code",
        "outputId": "5c135fe3-a191-4802-f521-26d664c681a9",
        "colab": {
          "base_uri": "https://localhost:8080/",
          "height": 206
        }
      },
      "source": [
        "truth.head()"
      ],
      "execution_count": 0,
      "outputs": [
        {
          "output_type": "execute_result",
          "data": {
            "text/html": [
              "<div>\n",
              "<style scoped>\n",
              "    .dataframe tbody tr th:only-of-type {\n",
              "        vertical-align: middle;\n",
              "    }\n",
              "\n",
              "    .dataframe tbody tr th {\n",
              "        vertical-align: top;\n",
              "    }\n",
              "\n",
              "    .dataframe thead th {\n",
              "        text-align: right;\n",
              "    }\n",
              "</style>\n",
              "<table border=\"1\" class=\"dataframe\">\n",
              "  <thead>\n",
              "    <tr style=\"text-align: right;\">\n",
              "      <th></th>\n",
              "      <th>evento</th>\n",
              "      <th>inicio</th>\n",
              "      <th>fim</th>\n",
              "    </tr>\n",
              "  </thead>\n",
              "  <tbody>\n",
              "    <tr>\n",
              "      <th>0</th>\n",
              "      <td>evento_nao_agressivo</td>\n",
              "      <td>2.0</td>\n",
              "      <td>6.5</td>\n",
              "    </tr>\n",
              "    <tr>\n",
              "      <th>1</th>\n",
              "      <td>curva_direita_agressiva</td>\n",
              "      <td>19.5</td>\n",
              "      <td>23.5</td>\n",
              "    </tr>\n",
              "    <tr>\n",
              "      <th>2</th>\n",
              "      <td>evento_nao_agressivo</td>\n",
              "      <td>30.0</td>\n",
              "      <td>33.5</td>\n",
              "    </tr>\n",
              "    <tr>\n",
              "      <th>3</th>\n",
              "      <td>curva_direita_agressiva</td>\n",
              "      <td>95.0</td>\n",
              "      <td>98.0</td>\n",
              "    </tr>\n",
              "    <tr>\n",
              "      <th>4</th>\n",
              "      <td>curva_esquerda_agressiva</td>\n",
              "      <td>247.0</td>\n",
              "      <td>251.5</td>\n",
              "    </tr>\n",
              "  </tbody>\n",
              "</table>\n",
              "</div>"
            ],
            "text/plain": [
              "                     evento   inicio    fim\n",
              "0      evento_nao_agressivo      2.0    6.5\n",
              "1   curva_direita_agressiva     19.5   23.5\n",
              "2      evento_nao_agressivo     30.0   33.5\n",
              "3   curva_direita_agressiva     95.0   98.0\n",
              "4  curva_esquerda_agressiva    247.0  251.5"
            ]
          },
          "metadata": {
            "tags": []
          },
          "execution_count": 143
        }
      ]
    },
    {
      "cell_type": "code",
      "metadata": {
        "id": "WPw1JnH0wpS5",
        "colab_type": "code",
        "outputId": "97f0c188-37ad-403a-a36a-c081596a2a80",
        "colab": {
          "base_uri": "https://localhost:8080/",
          "height": 36
        }
      },
      "source": [
        "print(giro_ter['uptimeNanos'][0])"
      ],
      "execution_count": 0,
      "outputs": [
        {
          "output_type": "stream",
          "text": [
            "11537635386799\n"
          ],
          "name": "stdout"
        }
      ]
    },
    {
      "cell_type": "code",
      "metadata": {
        "id": "hqOPNCpvw9z7",
        "colab_type": "code",
        "colab": {}
      },
      "source": [
        "# print(giro_ter['uptimeNanos'])"
      ],
      "execution_count": 0,
      "outputs": []
    },
    {
      "cell_type": "code",
      "metadata": {
        "id": "3TTAwUpGwDLu",
        "colab_type": "code",
        "colab": {}
      },
      "source": [
        "def del_val(df):\n",
        "    val = df['uptimeNanos'][0]\n",
        "    for i in range(len(df)):\n",
        "        df['uptimeNanos'][i] = round((df['uptimeNanos'][i] - val) / 10**9, 2)\n",
        "    return df"
      ],
      "execution_count": 0,
      "outputs": []
    },
    {
      "cell_type": "code",
      "metadata": {
        "id": "qAj69zC8w6yi",
        "colab_type": "code",
        "outputId": "3c9049bf-b7ae-455d-ba89-be35f2bde719",
        "colab": {
          "base_uri": "https://localhost:8080/",
          "height": 130
        }
      },
      "source": [
        "accl_lin = del_val(accl_lin)"
      ],
      "execution_count": 0,
      "outputs": [
        {
          "output_type": "stream",
          "text": [
            "/usr/local/lib/python3.6/dist-packages/ipykernel_launcher.py:4: SettingWithCopyWarning: \n",
            "A value is trying to be set on a copy of a slice from a DataFrame\n",
            "\n",
            "See the caveats in the documentation: http://pandas.pydata.org/pandas-docs/stable/user_guide/indexing.html#returning-a-view-versus-a-copy\n",
            "  after removing the cwd from sys.path.\n"
          ],
          "name": "stderr"
        }
      ]
    },
    {
      "cell_type": "code",
      "metadata": {
        "id": "GYfHfGNFyfHI",
        "colab_type": "code",
        "outputId": "d320d0e0-bf5c-4f73-e0e2-0cf807888f1d",
        "colab": {
          "base_uri": "https://localhost:8080/",
          "height": 130
        }
      },
      "source": [
        "giro_ter = del_val(giro_ter)"
      ],
      "execution_count": 0,
      "outputs": [
        {
          "output_type": "stream",
          "text": [
            "/usr/local/lib/python3.6/dist-packages/ipykernel_launcher.py:4: SettingWithCopyWarning: \n",
            "A value is trying to be set on a copy of a slice from a DataFrame\n",
            "\n",
            "See the caveats in the documentation: http://pandas.pydata.org/pandas-docs/stable/user_guide/indexing.html#returning-a-view-versus-a-copy\n",
            "  after removing the cwd from sys.path.\n"
          ],
          "name": "stderr"
        }
      ]
    },
    {
      "cell_type": "code",
      "metadata": {
        "id": "WBsehkqOygCK",
        "colab_type": "code",
        "outputId": "e1b7d773-b580-41c0-be3f-66d42d6e21d4",
        "colab": {
          "base_uri": "https://localhost:8080/",
          "height": 130
        }
      },
      "source": [
        "camp_mag = del_val(camp_mag)"
      ],
      "execution_count": 0,
      "outputs": [
        {
          "output_type": "stream",
          "text": [
            "/usr/local/lib/python3.6/dist-packages/ipykernel_launcher.py:4: SettingWithCopyWarning: \n",
            "A value is trying to be set on a copy of a slice from a DataFrame\n",
            "\n",
            "See the caveats in the documentation: http://pandas.pydata.org/pandas-docs/stable/user_guide/indexing.html#returning-a-view-versus-a-copy\n",
            "  after removing the cwd from sys.path.\n"
          ],
          "name": "stderr"
        }
      ]
    },
    {
      "cell_type": "code",
      "metadata": {
        "id": "4FUGDt6FygmX",
        "colab_type": "code",
        "outputId": "98f982c4-aa20-49d9-c079-bfd5e4233bc5",
        "colab": {
          "base_uri": "https://localhost:8080/",
          "height": 130
        }
      },
      "source": [
        "accl_ter = del_val(accl_ter)"
      ],
      "execution_count": 0,
      "outputs": [
        {
          "output_type": "stream",
          "text": [
            "/usr/local/lib/python3.6/dist-packages/ipykernel_launcher.py:4: SettingWithCopyWarning: \n",
            "A value is trying to be set on a copy of a slice from a DataFrame\n",
            "\n",
            "See the caveats in the documentation: http://pandas.pydata.org/pandas-docs/stable/user_guide/indexing.html#returning-a-view-versus-a-copy\n",
            "  after removing the cwd from sys.path.\n"
          ],
          "name": "stderr"
        }
      ]
    },
    {
      "cell_type": "code",
      "metadata": {
        "id": "qffTXiTAxN8m",
        "colab_type": "code",
        "outputId": "d4eaa4ae-a7ec-40c7-df94-c42f30e00ac9",
        "colab": {
          "base_uri": "https://localhost:8080/",
          "height": 424
        }
      },
      "source": [
        "accl_lin.head(10000)"
      ],
      "execution_count": 0,
      "outputs": [
        {
          "output_type": "execute_result",
          "data": {
            "text/html": [
              "<div>\n",
              "<style scoped>\n",
              "    .dataframe tbody tr th:only-of-type {\n",
              "        vertical-align: middle;\n",
              "    }\n",
              "\n",
              "    .dataframe tbody tr th {\n",
              "        vertical-align: top;\n",
              "    }\n",
              "\n",
              "    .dataframe thead th {\n",
              "        text-align: right;\n",
              "    }\n",
              "</style>\n",
              "<table border=\"1\" class=\"dataframe\">\n",
              "  <thead>\n",
              "    <tr style=\"text-align: right;\">\n",
              "      <th></th>\n",
              "      <th>timestamp</th>\n",
              "      <th>uptimeNanos</th>\n",
              "      <th>x_accl</th>\n",
              "      <th>y_accl</th>\n",
              "      <th>z_accl</th>\n",
              "    </tr>\n",
              "  </thead>\n",
              "  <tbody>\n",
              "    <tr>\n",
              "      <th>0</th>\n",
              "      <td>14/05/2016 10:54:33</td>\n",
              "      <td>0</td>\n",
              "      <td>-0.161602</td>\n",
              "      <td>0.120174</td>\n",
              "      <td>-0.209893</td>\n",
              "    </tr>\n",
              "    <tr>\n",
              "      <th>1</th>\n",
              "      <td>14/05/2016 10:54:33</td>\n",
              "      <td>0</td>\n",
              "      <td>-0.122628</td>\n",
              "      <td>0.315638</td>\n",
              "      <td>-0.380996</td>\n",
              "    </tr>\n",
              "    <tr>\n",
              "      <th>2</th>\n",
              "      <td>14/05/2016 10:54:33</td>\n",
              "      <td>0</td>\n",
              "      <td>-0.178777</td>\n",
              "      <td>0.330181</td>\n",
              "      <td>-0.360696</td>\n",
              "    </tr>\n",
              "    <tr>\n",
              "      <th>3</th>\n",
              "      <td>14/05/2016 10:54:33</td>\n",
              "      <td>0</td>\n",
              "      <td>0.016043</td>\n",
              "      <td>0.038759</td>\n",
              "      <td>-0.278204</td>\n",
              "    </tr>\n",
              "    <tr>\n",
              "      <th>4</th>\n",
              "      <td>14/05/2016 10:54:33</td>\n",
              "      <td>0</td>\n",
              "      <td>0.141716</td>\n",
              "      <td>-0.162492</td>\n",
              "      <td>-0.049796</td>\n",
              "    </tr>\n",
              "    <tr>\n",
              "      <th>...</th>\n",
              "      <td>...</td>\n",
              "      <td>...</td>\n",
              "      <td>...</td>\n",
              "      <td>...</td>\n",
              "      <td>...</td>\n",
              "    </tr>\n",
              "    <tr>\n",
              "      <th>9995</th>\n",
              "      <td>14/05/2016 10:57:49</td>\n",
              "      <td>196</td>\n",
              "      <td>-1.212559</td>\n",
              "      <td>0.463410</td>\n",
              "      <td>-0.000673</td>\n",
              "    </tr>\n",
              "    <tr>\n",
              "      <th>9996</th>\n",
              "      <td>14/05/2016 10:57:49</td>\n",
              "      <td>196</td>\n",
              "      <td>-1.191521</td>\n",
              "      <td>0.601507</td>\n",
              "      <td>-0.105348</td>\n",
              "    </tr>\n",
              "    <tr>\n",
              "      <th>9997</th>\n",
              "      <td>14/05/2016 10:57:49</td>\n",
              "      <td>196</td>\n",
              "      <td>-0.386142</td>\n",
              "      <td>0.035446</td>\n",
              "      <td>-0.139077</td>\n",
              "    </tr>\n",
              "    <tr>\n",
              "      <th>9998</th>\n",
              "      <td>14/05/2016 10:57:49</td>\n",
              "      <td>196</td>\n",
              "      <td>0.128908</td>\n",
              "      <td>-0.301962</td>\n",
              "      <td>-0.167732</td>\n",
              "    </tr>\n",
              "    <tr>\n",
              "      <th>9999</th>\n",
              "      <td>14/05/2016 10:57:49</td>\n",
              "      <td>196</td>\n",
              "      <td>-0.248131</td>\n",
              "      <td>0.134943</td>\n",
              "      <td>-0.763512</td>\n",
              "    </tr>\n",
              "  </tbody>\n",
              "</table>\n",
              "<p>10000 rows × 5 columns</p>\n",
              "</div>"
            ],
            "text/plain": [
              "                timestamp  uptimeNanos    x_accl    y_accl    z_accl\n",
              "0     14/05/2016 10:54:33            0 -0.161602  0.120174 -0.209893\n",
              "1     14/05/2016 10:54:33            0 -0.122628  0.315638 -0.380996\n",
              "2     14/05/2016 10:54:33            0 -0.178777  0.330181 -0.360696\n",
              "3     14/05/2016 10:54:33            0  0.016043  0.038759 -0.278204\n",
              "4     14/05/2016 10:54:33            0  0.141716 -0.162492 -0.049796\n",
              "...                   ...          ...       ...       ...       ...\n",
              "9995  14/05/2016 10:57:49          196 -1.212559  0.463410 -0.000673\n",
              "9996  14/05/2016 10:57:49          196 -1.191521  0.601507 -0.105348\n",
              "9997  14/05/2016 10:57:49          196 -0.386142  0.035446 -0.139077\n",
              "9998  14/05/2016 10:57:49          196  0.128908 -0.301962 -0.167732\n",
              "9999  14/05/2016 10:57:49          196 -0.248131  0.134943 -0.763512\n",
              "\n",
              "[10000 rows x 5 columns]"
            ]
          },
          "metadata": {
            "tags": []
          },
          "execution_count": 107
        }
      ]
    },
    {
      "cell_type": "code",
      "metadata": {
        "id": "cY8KAXa9xVSk",
        "colab_type": "code",
        "outputId": "7ec27a0c-413f-4ff5-86b6-32aab28ce232",
        "colab": {
          "base_uri": "https://localhost:8080/",
          "height": 363
        }
      },
      "source": [
        "truth.head(10)"
      ],
      "execution_count": 0,
      "outputs": [
        {
          "output_type": "execute_result",
          "data": {
            "text/html": [
              "<div>\n",
              "<style scoped>\n",
              "    .dataframe tbody tr th:only-of-type {\n",
              "        vertical-align: middle;\n",
              "    }\n",
              "\n",
              "    .dataframe tbody tr th {\n",
              "        vertical-align: top;\n",
              "    }\n",
              "\n",
              "    .dataframe thead th {\n",
              "        text-align: right;\n",
              "    }\n",
              "</style>\n",
              "<table border=\"1\" class=\"dataframe\">\n",
              "  <thead>\n",
              "    <tr style=\"text-align: right;\">\n",
              "      <th></th>\n",
              "      <th>evento</th>\n",
              "      <th>inicio</th>\n",
              "      <th>fim</th>\n",
              "    </tr>\n",
              "  </thead>\n",
              "  <tbody>\n",
              "    <tr>\n",
              "      <th>0</th>\n",
              "      <td>evento_nao_agressivo</td>\n",
              "      <td>2.0</td>\n",
              "      <td>6.5</td>\n",
              "    </tr>\n",
              "    <tr>\n",
              "      <th>1</th>\n",
              "      <td>curva_direita_agressiva</td>\n",
              "      <td>19.5</td>\n",
              "      <td>23.5</td>\n",
              "    </tr>\n",
              "    <tr>\n",
              "      <th>2</th>\n",
              "      <td>evento_nao_agressivo</td>\n",
              "      <td>30.0</td>\n",
              "      <td>33.5</td>\n",
              "    </tr>\n",
              "    <tr>\n",
              "      <th>3</th>\n",
              "      <td>curva_direita_agressiva</td>\n",
              "      <td>95.0</td>\n",
              "      <td>98.0</td>\n",
              "    </tr>\n",
              "    <tr>\n",
              "      <th>4</th>\n",
              "      <td>curva_esquerda_agressiva</td>\n",
              "      <td>247.0</td>\n",
              "      <td>251.5</td>\n",
              "    </tr>\n",
              "    <tr>\n",
              "      <th>5</th>\n",
              "      <td>curva_esquerda_agressiva</td>\n",
              "      <td>348.7</td>\n",
              "      <td>352.3</td>\n",
              "    </tr>\n",
              "    <tr>\n",
              "      <th>6</th>\n",
              "      <td>evento_nao_agressivo</td>\n",
              "      <td>485.0</td>\n",
              "      <td>489.0</td>\n",
              "    </tr>\n",
              "    <tr>\n",
              "      <th>7</th>\n",
              "      <td>curva_esquerda_agressiva</td>\n",
              "      <td>496.0</td>\n",
              "      <td>499.5</td>\n",
              "    </tr>\n",
              "    <tr>\n",
              "      <th>8</th>\n",
              "      <td>curva_direita_agressiva</td>\n",
              "      <td>587.0</td>\n",
              "      <td>590.0</td>\n",
              "    </tr>\n",
              "    <tr>\n",
              "      <th>9</th>\n",
              "      <td>curva_esquerda_agressiva</td>\n",
              "      <td>750.0</td>\n",
              "      <td>753.8</td>\n",
              "    </tr>\n",
              "  </tbody>\n",
              "</table>\n",
              "</div>"
            ],
            "text/plain": [
              "                     evento   inicio    fim\n",
              "0      evento_nao_agressivo      2.0    6.5\n",
              "1   curva_direita_agressiva     19.5   23.5\n",
              "2      evento_nao_agressivo     30.0   33.5\n",
              "3   curva_direita_agressiva     95.0   98.0\n",
              "4  curva_esquerda_agressiva    247.0  251.5\n",
              "5  curva_esquerda_agressiva    348.7  352.3\n",
              "6      evento_nao_agressivo    485.0  489.0\n",
              "7  curva_esquerda_agressiva    496.0  499.5\n",
              "8   curva_direita_agressiva    587.0  590.0\n",
              "9  curva_esquerda_agressiva    750.0  753.8"
            ]
          },
          "metadata": {
            "tags": []
          },
          "execution_count": 145
        }
      ]
    },
    {
      "cell_type": "code",
      "metadata": {
        "id": "X15WCL0mAHEi",
        "colab_type": "code",
        "colab": {}
      },
      "source": [
        "# df_train = giro_ter['']"
      ],
      "execution_count": 0,
      "outputs": []
    },
    {
      "cell_type": "code",
      "metadata": {
        "id": "MTG8P8MfP-N5",
        "colab_type": "code",
        "colab": {}
      },
      "source": [
        "camp_mag.to_csv('camp_mag16.csv')\n",
        "accl_lin.to_csv('accl_lin16.csv')\n",
        "giro_ter.to_csv('giro_ter16.csv')\n",
        "accl_ter.to_csv('accl_ter16.csv')"
      ],
      "execution_count": 0,
      "outputs": []
    },
    {
      "cell_type": "code",
      "metadata": {
        "id": "QKDJjJ7cQj7W",
        "colab_type": "code",
        "colab": {}
      },
      "source": [
        ""
      ],
      "execution_count": 0,
      "outputs": []
    }
  ]
}