{
  "nbformat": 4,
  "nbformat_minor": 0,
  "metadata": {
    "colab": {
      "name": "deploy_tflite.ipynb",
      "provenance": []
    },
    "kernelspec": {
      "name": "python3",
      "display_name": "Python 3"
    }
  },
  "cells": [
    {
      "cell_type": "code",
      "metadata": {
        "id": "2K8DyKnp8lfW",
        "colab_type": "code",
        "colab": {
          "base_uri": "https://localhost:8080/",
          "height": 36
        },
        "outputId": "9d014759-f002-4f2d-a163-74535e2394b1"
      },
      "source": [
        "# ! pip3 install https://dl.google.com/coral/python/tflite_runtime-2.1.0.post1-cp37-cp37m-linux_armv7l.whl"
      ],
      "execution_count": 2,
      "outputs": [
        {
          "output_type": "stream",
          "text": [
            "\u001b[31mERROR: tflite_runtime-2.1.0.post1-cp37-cp37m-linux_armv7l.whl is not a supported wheel on this platform.\u001b[0m\n"
          ],
          "name": "stdout"
        }
      ]
    },
    {
      "cell_type": "code",
      "metadata": {
        "id": "7ghRVX0o6cJH",
        "colab_type": "code",
        "colab": {}
      },
      "source": [
        "import numpy as np\n",
        "import tensorflow as tf\n",
        "import cv2\n",
        "import tflite_runtime.interpreter as tflite"
      ],
      "execution_count": 0,
      "outputs": []
    },
    {
      "cell_type": "code",
      "metadata": {
        "id": "slUgAeWn-A6B",
        "colab_type": "code",
        "colab": {}
      },
      "source": [
        "# clss = {'0': 'safe driving',\n",
        "# '1': 'texting - right',\n",
        "# '2': 'talking on the phone - right',\n",
        "# '3': 'texting - left',\n",
        "# '4': 'talking on the phone - left',\n",
        "# '5':'operating the radio',\n",
        "# '6': 'drinking',\n",
        "# '7': 'reaching behind',\n",
        "# '8': 'hair and makeup',\n",
        "# '9': 'talking to passenger'}"
      ],
      "execution_count": 0,
      "outputs": []
    },
    {
      "cell_type": "code",
      "metadata": {
        "id": "7MpW20-qCXH4",
        "colab_type": "code",
        "colab": {}
      },
      "source": [
        "def load_model(model_path):\n",
        "    interpreter = tf.lite.Interpreter(model_content=model_path)\n",
        "    interpreter.allocate_tensors()\n",
        "    input_details = interpreter.get_input_details()\n",
        "    output_details = interpreter.get_output_details()\n",
        "    return iterpreter"
      ],
      "execution_count": 0,
      "outputs": []
    },
    {
      "cell_type": "code",
      "metadata": {
        "id": "yDs4gEcN-CkC",
        "colab_type": "code",
        "colab": {}
      },
      "source": [
        "def get_inference(model, file_path):\n",
        "    clss = {'0': 'safe driving',\n",
        "    '1': 'texting - right',\n",
        "    '2': 'talking on the phone - right',\n",
        "    '3': 'texting - left',\n",
        "    '4': 'talking on the phone - left',\n",
        "    '5':'operating the radio',\n",
        "    '6': 'drinking',\n",
        "    '7': 'reaching behind',\n",
        "    '8': 'hair and makeup',\n",
        "    '9': 'talking to passenger'}\n",
        "    input_path = file_path\n",
        "    input_data = cv2.imread(input_path,0)\n",
        "    input_data = cv2.resize(input_data, (256, 256))\n",
        "    # input_data = cv2.cv2Color(input_data, cv2.COLORBGR2RGB)\n",
        "    input_data = (input_data / 255).astype(np.float32)\n",
        "    input_data = tf.expand_dims(input_data, -1)\n",
        "    input_data = tf.expand_dims(input_data, 0)\n",
        "    print(input_data.shape)\n",
        "    interpreter.set_tensor(input_details[0]['index'], input_data)\n",
        "    interpreter.invoke()\n",
        "    tflite_results = interpreter.get_tensor(output_details[0]['index'])\n",
        "    cpred = np.argmax(tflite_results, axis=1)\n",
        "    print(cpred)\n",
        "    print(clss[str(cpred[0])])\n",
        "\n",
        "    return clss\n"
      ],
      "execution_count": 0,
      "outputs": []
    }
  ]
}